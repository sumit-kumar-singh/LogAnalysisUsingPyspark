{
 "cells": [
  {
   "cell_type": "markdown",
   "metadata": {},
   "source": [
    "## NASA Web Server Log Analysis with Apache Spark"
   ]
  },
  {
   "cell_type": "markdown",
   "metadata": {},
   "source": [
    "### STEP 1 : Introduction and Imports"
   ]
  },
  {
   "cell_type": "markdown",
   "metadata": {},
   "source": [
    "* We are doing analysis on NASA access log dataset for the month of July and August.\n",
    "\n",
    "\n",
    "* Folder Structure\n",
    "    - log-anaysis-using-pyspark\n",
    "        - dataset\n",
    "            - log_aug.gz\n",
    "            - log_jul.gz\n",
    "        - Notebook.ipynb\n",
    "\n",
    "\n",
    "* log_jul.gz - contains logs for month of July\n",
    "* log_aug.gz - contains logs for month of August"
   ]
  },
  {
   "cell_type": "markdown",
   "metadata": {},
   "source": [
    "#### Library Imports"
   ]
  },
  {
   "cell_type": "code",
   "execution_count": 1,
   "metadata": {},
   "outputs": [
    {
     "data": {
      "text/html": [
       "\n",
       "            <div>\n",
       "                <p><b>SparkSession - hive</b></p>\n",
       "                \n",
       "        <div>\n",
       "            <p><b>SparkContext</b></p>\n",
       "\n",
       "            <p><a href=\"http://10.11.29.55:4040\">Spark UI</a></p>\n",
       "\n",
       "            <dl>\n",
       "              <dt>Version</dt>\n",
       "                <dd><code>v2.4.3</code></dd>\n",
       "              <dt>Master</dt>\n",
       "                <dd><code>local[*]</code></dd>\n",
       "              <dt>AppName</dt>\n",
       "                <dd><code>PySparkShell</code></dd>\n",
       "            </dl>\n",
       "        </div>\n",
       "        \n",
       "            </div>\n",
       "        "
      ],
      "text/plain": [
       "<pyspark.sql.session.SparkSession at 0x7fb5c46e5160>"
      ]
     },
     "execution_count": 1,
     "metadata": {},
     "output_type": "execute_result"
    }
   ],
   "source": [
    "# import libraries\n",
    "\n",
    "# SparkSession\n",
    "from pyspark.sql import SparkSession\n",
    "\n",
    "# Regular expressions\n",
    "import re\n",
    "\n",
    "# Pandas\n",
    "import pandas as pd\n",
    "\n",
    "# creating sparkSession\n",
    "spark = SparkSession.builder \\\n",
    "                    .appName(\"Log Analysis\") \\\n",
    "                    .config(\"spark.some.config.option\", \"some-value\") \\\n",
    "                    .getOrCreate()\n",
    "spark"
   ]
  },
  {
   "cell_type": "markdown",
   "metadata": {},
   "source": [
    "### STEP 2 : Exploratory Data Analysis"
   ]
  },
  {
   "cell_type": "markdown",
   "metadata": {},
   "source": [
    "#### Loading the log file"
   ]
  },
  {
   "cell_type": "code",
   "execution_count": 2,
   "metadata": {},
   "outputs": [
    {
     "name": "stdout",
     "output_type": "stream",
     "text": [
      "Data types is :  <class 'pyspark.sql.dataframe.DataFrame'>\n",
      "Data type and column name :  DataFrame[value: string]\n"
     ]
    }
   ],
   "source": [
    "# read data as dataframe\n",
    "data_df = spark.read.text(\"dataset/*.gz\")\n",
    "print('Data types is : ', type(data_df))\n",
    "print('Data type and column name : ', data_df)"
   ]
  },
  {
   "cell_type": "code",
   "execution_count": 3,
   "metadata": {},
   "outputs": [
    {
     "name": "stdout",
     "output_type": "stream",
     "text": [
      "Total rows and columns : \n",
      "(3461613, 1)\n"
     ]
    }
   ],
   "source": [
    "# count number of records\n",
    "print('Total rows and columns : ')\n",
    "print((data_df.count(), len(data_df.columns)))"
   ]
  },
  {
   "cell_type": "code",
   "execution_count": 4,
   "metadata": {},
   "outputs": [
    {
     "name": "stdout",
     "output_type": "stream",
     "text": [
      "root\n",
      " |-- log: string (nullable = true)\n",
      "\n"
     ]
    }
   ],
   "source": [
    "# renaming default column name\n",
    "data_df = data_df.withColumnRenamed(\"value\", \"log\") \n",
    "\n",
    "# view schema of dataset\n",
    "data_df.printSchema()"
   ]
  },
  {
   "cell_type": "code",
   "execution_count": 5,
   "metadata": {},
   "outputs": [
    {
     "name": "stdout",
     "output_type": "stream",
     "text": [
      "+-----------------------------------------------------------------------------------------------------------------------+\n",
      "|log                                                                                                                    |\n",
      "+-----------------------------------------------------------------------------------------------------------------------+\n",
      "|199.72.81.55 - - [01/Jul/1995:00:00:01 -0400] \"GET /history/apollo/ HTTP/1.0\" 200 6245                                 |\n",
      "|unicomp6.unicomp.net - - [01/Jul/1995:00:00:06 -0400] \"GET /shuttle/countdown/ HTTP/1.0\" 200 3985                      |\n",
      "|199.120.110.21 - - [01/Jul/1995:00:00:09 -0400] \"GET /shuttle/missions/sts-73/mission-sts-73.html HTTP/1.0\" 200 4085   |\n",
      "|burger.letters.com - - [01/Jul/1995:00:00:11 -0400] \"GET /shuttle/countdown/liftoff.html HTTP/1.0\" 304 0               |\n",
      "|199.120.110.21 - - [01/Jul/1995:00:00:11 -0400] \"GET /shuttle/missions/sts-73/sts-73-patch-small.gif HTTP/1.0\" 200 4179|\n",
      "+-----------------------------------------------------------------------------------------------------------------------+\n",
      "only showing top 5 rows\n",
      "\n"
     ]
    }
   ],
   "source": [
    "# view dataset\n",
    "data_df.show(5, truncate=False)\n",
    "\n",
    "# details about dataset : host_name, timestamp, request, response_code, data_size"
   ]
  },
  {
   "cell_type": "markdown",
   "metadata": {},
   "source": [
    "#### Parsing the log file"
   ]
  },
  {
   "cell_type": "code",
   "execution_count": 6,
   "metadata": {},
   "outputs": [
    {
     "name": "stdout",
     "output_type": "stream",
     "text": [
      "Sample log data is : \n",
      " ['199.72.81.55 - - [01/Jul/1995:00:00:01 -0400] \"GET /history/apollo/ HTTP/1.0\" 200 6245', 'unicomp6.unicomp.net - - [01/Jul/1995:00:00:06 -0400] \"GET /shuttle/countdown/ HTTP/1.0\" 200 3985', '199.120.110.21 - - [01/Jul/1995:00:00:09 -0400] \"GET /shuttle/missions/sts-73/mission-sts-73.html HTTP/1.0\" 200 4085', 'burger.letters.com - - [01/Jul/1995:00:00:11 -0400] \"GET /shuttle/countdown/liftoff.html HTTP/1.0\" 304 0', '199.120.110.21 - - [01/Jul/1995:00:00:11 -0400] \"GET /shuttle/missions/sts-73/sts-73-patch-small.gif HTTP/1.0\" 200 4179', 'burger.letters.com - - [01/Jul/1995:00:00:12 -0400] \"GET /images/NASA-logosmall.gif HTTP/1.0\" 304 0', 'burger.letters.com - - [01/Jul/1995:00:00:12 -0400] \"GET /shuttle/countdown/video/livevideo.gif HTTP/1.0\" 200 0', '205.212.115.106 - - [01/Jul/1995:00:00:12 -0400] \"GET /shuttle/countdown/countdown.html HTTP/1.0\" 200 3985', 'd104.aa.net - - [01/Jul/1995:00:00:13 -0400] \"GET /shuttle/countdown/ HTTP/1.0\" 200 3985', '129.94.144.152 - - [01/Jul/1995:00:00:13 -0400] \"GET / HTTP/1.0\" 200 7074']\n"
     ]
    }
   ],
   "source": [
    "# get sample log for operations\n",
    "sample_log_data = []\n",
    "for item in data_df.take(10):\n",
    "    sample_log_data.append(item[\"log\"])\n",
    "print('Sample log data is : \\n', sample_log_data)"
   ]
  },
  {
   "cell_type": "markdown",
   "metadata": {},
   "source": [
    "#### Fetching status code"
   ]
  },
  {
   "cell_type": "code",
   "execution_count": 7,
   "metadata": {},
   "outputs": [
    {
     "name": "stdout",
     "output_type": "stream",
     "text": [
      "['200', '200', '200', '304', '200', '304', '200', '200', '200', '200']\n"
     ]
    }
   ],
   "source": [
    "# regex pattern for status code\n",
    "# \\s matches any whitespace character (equal to [\\r\\n\\t\\f\\v ])\n",
    "# capture group (\\d{3}) \\d{3} matches a digit (equal to [0-9]) {3} Quantifier — Matches exactly 3 times\n",
    "status_code_regx = r'\\s(\\d{3})\\s'\n",
    "status = []\n",
    "for item in sample_log_data:\n",
    "    status.append(re.search(status_code_regx, item).group(1))\n",
    "print(status)"
   ]
  },
  {
   "cell_type": "markdown",
   "metadata": {},
   "source": [
    "#### Fetching content size"
   ]
  },
  {
   "cell_type": "code",
   "execution_count": 8,
   "metadata": {},
   "outputs": [
    {
     "name": "stdout",
     "output_type": "stream",
     "text": [
      "['6245', '3985', '4085', '0', '4179', '0', '0', '3985', '3985', '7074']\n"
     ]
    }
   ],
   "source": [
    "# regex pattern for content size\n",
    "# \\s matches any whitespace character (equal to [\\r\\n\\t\\f\\v ])\n",
    "# \\d+ matches a digit (equal to [0-9])\n",
    "# + Quantifier — Matches between one and unlimited times, as many times as possible\n",
    "# $ asserts position at the end of a line\n",
    "content_size_regx = r'\\s(\\d+)$'\n",
    "content_size = []\n",
    "for item in sample_log_data:\n",
    "    content_size.append(re.search(content_size_regx, item).group(1))\n",
    "print(content_size)"
   ]
  },
  {
   "cell_type": "markdown",
   "metadata": {},
   "source": [
    "#### Fetching host name"
   ]
  },
  {
   "cell_type": "code",
   "execution_count": 9,
   "metadata": {},
   "outputs": [
    {
     "name": "stdout",
     "output_type": "stream",
     "text": [
      "['199.72.81.55', 'unicomp6.unicomp.net', '199.120.110.21', 'burger.letters.com', '199.120.110.21', 'burger.letters.com', 'burger.letters.com', '205.212.115.106', 'd104.aa.net', '129.94.144.152']\n"
     ]
    }
   ],
   "source": [
    "# regex pattern for host name\n",
    "# 1st Capturing Group (^.[\\S+\\.]+\\S+)\n",
    "# ^ asserts position at start of a line . matches any character (except for line terminators)\n",
    "# Match a single character present in the list below [\\S+\\.]+\n",
    "# + Quantifier — Matches between one and unlimited times, as many times as possible\n",
    "host_name_regx = r'(^\\S+\\.[\\S+\\.]+\\S+)\\s'\n",
    "host_name = []\n",
    "for item in sample_log_data:\n",
    "    host_name.append(re.search(host_name_regx, item).group(1))\n",
    "print(host_name)"
   ]
  },
  {
   "cell_type": "markdown",
   "metadata": {},
   "source": [
    "#### Fetching time stamp"
   ]
  },
  {
   "cell_type": "code",
   "execution_count": 10,
   "metadata": {},
   "outputs": [
    {
     "name": "stdout",
     "output_type": "stream",
     "text": [
      "['01/Jul/1995:00:00:01 -0400', '01/Jul/1995:00:00:06 -0400', '01/Jul/1995:00:00:09 -0400', '01/Jul/1995:00:00:11 -0400', '01/Jul/1995:00:00:11 -0400', '01/Jul/1995:00:00:12 -0400', '01/Jul/1995:00:00:12 -0400', '01/Jul/1995:00:00:12 -0400', '01/Jul/1995:00:00:13 -0400', '01/Jul/1995:00:00:13 -0400']\n"
     ]
    }
   ],
   "source": [
    "# regex pattern for time stamp\n",
    "# 1st Capturing Group (\\d\\d/\\w{3}/\\d{4}:\\d{2}:\\d{2}:\\d{2} -\\d{4})\n",
    "# \\d matches a digit (equal to [0-9])\n",
    "# \\w{3} matches any word character (equal to [a-zA-Z0-9_])\n",
    "# {3} Quantifier — Matches exactly 3 times\n",
    "# \\d{4} matches a digit (equal to [0-9])\n",
    "# {4} Quantifier — Matches exactly 4 times\n",
    "time_stamp_regx = r'\\[(\\d{2}/\\w{3}/\\d{4}:\\d{2}:\\d{2}:\\d{2} -\\d{4})]'\n",
    "time_stamp = []\n",
    "for item in sample_log_data:\n",
    "    time_stamp.append(re.search(time_stamp_regx, item).group(1))\n",
    "print(time_stamp)"
   ]
  },
  {
   "cell_type": "markdown",
   "metadata": {},
   "source": [
    "#### Fetching methods, urls and protocol"
   ]
  },
  {
   "cell_type": "code",
   "execution_count": 11,
   "metadata": {},
   "outputs": [
    {
     "name": "stdout",
     "output_type": "stream",
     "text": [
      "[('GET', '/history/apollo/', 'HTTP/1.0'), ('GET', '/shuttle/countdown/', 'HTTP/1.0'), ('GET', '/shuttle/missions/sts-73/mission-sts-73.html', 'HTTP/1.0'), ('GET', '/shuttle/countdown/liftoff.html', 'HTTP/1.0'), ('GET', '/shuttle/missions/sts-73/sts-73-patch-small.gif', 'HTTP/1.0'), ('GET', '/images/NASA-logosmall.gif', 'HTTP/1.0'), ('GET', '/shuttle/countdown/video/livevideo.gif', 'HTTP/1.0'), ('GET', '/shuttle/countdown/countdown.html', 'HTTP/1.0'), ('GET', '/shuttle/countdown/', 'HTTP/1.0'), ('GET', '/', 'HTTP/1.0')]\n"
     ]
    }
   ],
   "source": [
    "# regex pattern for combined methods, urls and protocol\n",
    "# 1st Capturing Group (\\S+) \\S+ matches any non-whitespace character (equal to [^\\r\\n\\t\\f\\v ]) \n",
    "# + Quantifier — Matches between one and unlimited times, as many times as possible\n",
    "# \\s matches any whitespace character \n",
    "# \\S* matches any non-whitespace character (equal to [^\\r\\n\\t\\f\\v ])\n",
    "methods_urls_protocol_regx = r'\\\"(\\S+)\\s(\\S+)\\s*(\\S*)\\\"'\n",
    "methods_urls_protocol = []\n",
    "for item in sample_log_data:\n",
    "    methods_urls_protocol.append(re.search(methods_urls_protocol_regx, item).groups())\n",
    "print(methods_urls_protocol)"
   ]
  },
  {
   "cell_type": "markdown",
   "metadata": {},
   "source": [
    "#### Combining it together"
   ]
  },
  {
   "cell_type": "code",
   "execution_count": 12,
   "metadata": {},
   "outputs": [],
   "source": [
    "# import regex_extract for extraction of regex based data\n",
    "from pyspark.sql.functions import regexp_extract\n",
    "\n",
    "processed_data_df = data_df.select(regexp_extract('log', host_name_regx, 1).alias('host'),\n",
    "                            regexp_extract('log', time_stamp_regx, 1).alias('timestamp'),\n",
    "                            regexp_extract('log', methods_urls_protocol_regx, 1).alias('method'),\n",
    "                            regexp_extract('log', methods_urls_protocol_regx, 2).alias('endpoint'),\n",
    "                            regexp_extract('log', methods_urls_protocol_regx, 3).alias('protocol'),\n",
    "                            regexp_extract('log', status_code_regx, 1).cast('integer').alias('status'),\n",
    "                            regexp_extract('log', content_size_regx, 1).cast('integer').alias('content_size'))"
   ]
  },
  {
   "cell_type": "code",
   "execution_count": 13,
   "metadata": {},
   "outputs": [
    {
     "name": "stdout",
     "output_type": "stream",
     "text": [
      "+--------------------+--------------------+------+--------------------+--------+------+------------+\n",
      "|                host|           timestamp|method|            endpoint|protocol|status|content_size|\n",
      "+--------------------+--------------------+------+--------------------+--------+------+------------+\n",
      "|        199.72.81.55|01/Jul/1995:00:00...|   GET|    /history/apollo/|HTTP/1.0|   200|        6245|\n",
      "|unicomp6.unicomp.net|01/Jul/1995:00:00...|   GET| /shuttle/countdown/|HTTP/1.0|   200|        3985|\n",
      "|      199.120.110.21|01/Jul/1995:00:00...|   GET|/shuttle/missions...|HTTP/1.0|   200|        4085|\n",
      "|  burger.letters.com|01/Jul/1995:00:00...|   GET|/shuttle/countdow...|HTTP/1.0|   304|           0|\n",
      "|      199.120.110.21|01/Jul/1995:00:00...|   GET|/shuttle/missions...|HTTP/1.0|   200|        4179|\n",
      "|  burger.letters.com|01/Jul/1995:00:00...|   GET|/images/NASA-logo...|HTTP/1.0|   304|           0|\n",
      "|  burger.letters.com|01/Jul/1995:00:00...|   GET|/shuttle/countdow...|HTTP/1.0|   200|           0|\n",
      "|     205.212.115.106|01/Jul/1995:00:00...|   GET|/shuttle/countdow...|HTTP/1.0|   200|        3985|\n",
      "|         d104.aa.net|01/Jul/1995:00:00...|   GET| /shuttle/countdown/|HTTP/1.0|   200|        3985|\n",
      "|      129.94.144.152|01/Jul/1995:00:00...|   GET|                   /|HTTP/1.0|   200|        7074|\n",
      "+--------------------+--------------------+------+--------------------+--------+------+------------+\n",
      "only showing top 10 rows\n",
      "\n"
     ]
    }
   ],
   "source": [
    "# viewing new dataframe \n",
    "processed_data_df.show(10, truncate=True)"
   ]
  },
  {
   "cell_type": "code",
   "execution_count": 14,
   "metadata": {},
   "outputs": [
    {
     "name": "stdout",
     "output_type": "stream",
     "text": [
      "root\n",
      " |-- host: string (nullable = true)\n",
      " |-- timestamp: string (nullable = true)\n",
      " |-- method: string (nullable = true)\n",
      " |-- endpoint: string (nullable = true)\n",
      " |-- protocol: string (nullable = true)\n",
      " |-- status: integer (nullable = true)\n",
      " |-- content_size: integer (nullable = true)\n",
      "\n"
     ]
    }
   ],
   "source": [
    "# schema of dataset\n",
    "processed_data_df.printSchema()"
   ]
  },
  {
   "cell_type": "code",
   "execution_count": 15,
   "metadata": {},
   "outputs": [
    {
     "name": "stdout",
     "output_type": "stream",
     "text": [
      "Total rows and columns : \n",
      "(3461613, 7)\n"
     ]
    }
   ],
   "source": [
    "# count of rows of new dataframe\n",
    "print('Total rows and columns : ')\n",
    "print((processed_data_df.count(), len(processed_data_df.columns)))\n",
    "\n",
    "# now we have 7 columns"
   ]
  },
  {
   "cell_type": "markdown",
   "metadata": {},
   "source": [
    "### STEP : 3 Data Wrangling"
   ]
  },
  {
   "cell_type": "code",
   "execution_count": 16,
   "metadata": {},
   "outputs": [
    {
     "name": "stdout",
     "output_type": "stream",
     "text": [
      "Count of null row :  0\n"
     ]
    }
   ],
   "source": [
    "# check null rows in original dataset\n",
    "print('Count of null row : ', data_df.filter(data_df.log.isNull()).count())"
   ]
  },
  {
   "cell_type": "code",
   "execution_count": 17,
   "metadata": {},
   "outputs": [
    {
     "name": "stdout",
     "output_type": "stream",
     "text": [
      "Null value count for host :  0\n"
     ]
    }
   ],
   "source": [
    "# check null value for each columns in processed dataset\n",
    "\n",
    "# for host name\n",
    "print('Null value count for host : ', processed_data_df.filter(processed_data_df['host'].isNull()).count())"
   ]
  },
  {
   "cell_type": "code",
   "execution_count": 18,
   "metadata": {},
   "outputs": [
    {
     "name": "stdout",
     "output_type": "stream",
     "text": [
      "Null value count for timestamp :  0\n"
     ]
    }
   ],
   "source": [
    "# for timestamp\n",
    "print('Null value count for timestamp : ', processed_data_df.filter(processed_data_df['timestamp'].isNull()).count())"
   ]
  },
  {
   "cell_type": "code",
   "execution_count": 19,
   "metadata": {},
   "outputs": [
    {
     "name": "stdout",
     "output_type": "stream",
     "text": [
      "Null value count for method :  0\n"
     ]
    }
   ],
   "source": [
    "# for method\n",
    "print('Null value count for method : ', processed_data_df.filter(processed_data_df['method'].isNull()).count())"
   ]
  },
  {
   "cell_type": "code",
   "execution_count": 20,
   "metadata": {},
   "outputs": [
    {
     "name": "stdout",
     "output_type": "stream",
     "text": [
      "Null value count for endpoint :  0\n"
     ]
    }
   ],
   "source": [
    "# for endpoint\n",
    "print('Null value count for endpoint : ', processed_data_df.filter(processed_data_df['endpoint'].isNull()).count())"
   ]
  },
  {
   "cell_type": "code",
   "execution_count": 21,
   "metadata": {},
   "outputs": [
    {
     "name": "stdout",
     "output_type": "stream",
     "text": [
      "Null value count for status :  1\n"
     ]
    }
   ],
   "source": [
    "# for status\n",
    "print('Null value count for status : ', processed_data_df.filter(processed_data_df['status'].isNull()).count())"
   ]
  },
  {
   "cell_type": "code",
   "execution_count": 22,
   "metadata": {},
   "outputs": [
    {
     "name": "stdout",
     "output_type": "stream",
     "text": [
      "Null value count for content :  33905\n"
     ]
    }
   ],
   "source": [
    "# for content size\n",
    "print('Null value count for content : ', processed_data_df.filter(processed_data_df['content_size'].isNull()).count())"
   ]
  },
  {
   "cell_type": "code",
   "execution_count": 23,
   "metadata": {},
   "outputs": [
    {
     "name": "stdout",
     "output_type": "stream",
     "text": [
      "Null value count for protocol :  0\n"
     ]
    }
   ],
   "source": [
    "# for protocol\n",
    "print('Null value count for protocol : ', processed_data_df.filter(processed_data_df['protocol'].isNull()).count())"
   ]
  },
  {
   "cell_type": "code",
   "execution_count": 24,
   "metadata": {},
   "outputs": [
    {
     "name": "stdout",
     "output_type": "stream",
     "text": [
      "+----+---------+------+--------+--------+------+------------+\n",
      "|host|timestamp|method|endpoint|protocol|status|content_size|\n",
      "+----+---------+------+--------+--------+------+------------+\n",
      "|   0|        0|     0|       0|       0|     1|       33905|\n",
      "+----+---------+------+--------+--------+------+------------+\n",
      "\n"
     ]
    }
   ],
   "source": [
    "# count the number of missing values in a dataframe\n",
    "from pyspark.sql.functions import col,sum\n",
    "processed_data_df.select(*(sum(col(c).isNull().cast(\"int\")).alias(c) for c in processed_data_df.columns)).show()"
   ]
  },
  {
   "cell_type": "code",
   "execution_count": 25,
   "metadata": {},
   "outputs": [
    {
     "name": "stdout",
     "output_type": "stream",
     "text": [
      "+--------+\n",
      "|     log|\n",
      "+--------+\n",
      "|alyssa.p|\n",
      "+--------+\n",
      "\n"
     ]
    }
   ],
   "source": [
    "# view null value record\n",
    "null_status_code_df = data_df.filter(~data_df['log'].rlike(status_code_regx))\n",
    "null_status_code_df.show()"
   ]
  },
  {
   "cell_type": "markdown",
   "metadata": {},
   "source": [
    "NOTE : This record has only null value for status code."
   ]
  },
  {
   "cell_type": "code",
   "execution_count": 26,
   "metadata": {},
   "outputs": [
    {
     "name": "stdout",
     "output_type": "stream",
     "text": [
      "Records with null status removed :  3461612\n"
     ]
    }
   ],
   "source": [
    "# remove null status rows\n",
    "processed_data_df = processed_data_df[processed_data_df['status'].isNotNull()] \n",
    "print('Records with null status removed : ', processed_data_df.count())"
   ]
  },
  {
   "cell_type": "code",
   "execution_count": 27,
   "metadata": {},
   "outputs": [
    {
     "name": "stdout",
     "output_type": "stream",
     "text": [
      "+----+---------+------+--------+--------+------+------------+\n",
      "|host|timestamp|method|endpoint|protocol|status|content_size|\n",
      "+----+---------+------+--------+--------+------+------------+\n",
      "|   0|        0|     0|       0|       0|     0|       33904|\n",
      "+----+---------+------+--------+--------+------+------------+\n",
      "\n"
     ]
    }
   ],
   "source": [
    "# view dataset after wrangling status code\n",
    "processed_data_df.select(*(sum(col(c).isNull().cast(\"int\")).alias(c) for c in processed_data_df.columns)).show()"
   ]
  },
  {
   "cell_type": "code",
   "execution_count": 28,
   "metadata": {},
   "outputs": [
    {
     "name": "stdout",
     "output_type": "stream",
     "text": [
      "Records after replacing it by 0 :  3461612\n"
     ]
    }
   ],
   "source": [
    "# fill null content size with 0 value\n",
    "processed_data_df = processed_data_df.na.fill({'content_size': 0})\n",
    "print('Records after replacing it by 0 : ', processed_data_df.count())"
   ]
  },
  {
   "cell_type": "code",
   "execution_count": 29,
   "metadata": {},
   "outputs": [
    {
     "name": "stdout",
     "output_type": "stream",
     "text": [
      "+----+---------+------+--------+--------+------+------------+\n",
      "|host|timestamp|method|endpoint|protocol|status|content_size|\n",
      "+----+---------+------+--------+--------+------+------------+\n",
      "|   0|        0|     0|       0|       0|     0|           0|\n",
      "+----+---------+------+--------+--------+------+------------+\n",
      "\n"
     ]
    }
   ],
   "source": [
    "# view dataset after wrangling content_size\n",
    "processed_data_df.select(*(sum(col(c).isNull().cast(\"int\")).alias(c) for c in processed_data_df.columns)).show()"
   ]
  },
  {
   "cell_type": "markdown",
   "metadata": {},
   "source": [
    "NOTE : Now after data cleaning there is no missing values in our processed dataset."
   ]
  },
  {
   "cell_type": "code",
   "execution_count": null,
   "metadata": {},
   "outputs": [],
   "source": []
  },
  {
   "cell_type": "markdown",
   "metadata": {},
   "source": [
    "#### Analysing timestamps"
   ]
  },
  {
   "cell_type": "code",
   "execution_count": 30,
   "metadata": {},
   "outputs": [
    {
     "name": "stdout",
     "output_type": "stream",
     "text": [
      "root\n",
      " |-- host: string (nullable = true)\n",
      " |-- timestamp: string (nullable = true)\n",
      " |-- method: string (nullable = true)\n",
      " |-- endpoint: string (nullable = true)\n",
      " |-- protocol: string (nullable = true)\n",
      " |-- status: integer (nullable = true)\n",
      " |-- content_size: integer (nullable = false)\n",
      "\n"
     ]
    }
   ],
   "source": [
    "# view schema of proccessed df\n",
    "processed_data_df.printSchema()"
   ]
  },
  {
   "cell_type": "markdown",
   "metadata": {},
   "source": [
    "NOTE : Here timestamp column is of type string, so we have convert it in timestamp datatype for further analysis"
   ]
  },
  {
   "cell_type": "code",
   "execution_count": 31,
   "metadata": {},
   "outputs": [],
   "source": [
    "# create map for month \n",
    "month_map = {\n",
    "  'Jan': 1, 'Feb': 2, 'Mar':3, 'Apr':4, 'May':5, 'Jun':6, 'Jul':7,\n",
    "  'Aug':8,  'Sep': 9, 'Oct':10, 'Nov': 11, 'Dec': 12\n",
    "}\n",
    "\n",
    "# function to take date as string and returning in below format\n",
    "def parse_to_timestamp(text):\n",
    "    # taking only 20 character from the time value and slicing it accordingly\n",
    "    time_format = \"{0:04d}-{1:02d}-{2:02d} {3:02d}:{4:02d}:{5:02d}\"\n",
    "    return time_format.format(int(text[7:11]),\n",
    "                              month_map[text[3:6]],\n",
    "                              int(text[0:2]),\n",
    "                              int(text[12:14]),\n",
    "                              int(text[15:17]),\n",
    "                              int(text[18:20])\n",
    "                             )"
   ]
  },
  {
   "cell_type": "code",
   "execution_count": 32,
   "metadata": {},
   "outputs": [
    {
     "name": "stdout",
     "output_type": "stream",
     "text": [
      "Sample log data is : \n",
      "\n"
     ]
    },
    {
     "data": {
      "text/plain": [
       "['01/Jul/1995:00:00:01 -0400',\n",
       " '01/Jul/1995:00:00:06 -0400',\n",
       " '01/Jul/1995:00:00:09 -0400',\n",
       " '01/Jul/1995:00:00:11 -0400',\n",
       " '01/Jul/1995:00:00:11 -0400']"
      ]
     },
     "execution_count": 32,
     "metadata": {},
     "output_type": "execute_result"
    }
   ],
   "source": [
    "# get sample log for operations\n",
    "sample_timestamp = []\n",
    "for item in processed_data_df.take(5):\n",
    "    sample_timestamp.append(item[\"timestamp\"])\n",
    "print('Sample log data is : \\n')\n",
    "sample_timestamp"
   ]
  },
  {
   "cell_type": "code",
   "execution_count": 33,
   "metadata": {},
   "outputs": [
    {
     "name": "stdout",
     "output_type": "stream",
     "text": [
      "Parsed data to timestamp\n"
     ]
    },
    {
     "data": {
      "text/plain": [
       "['1995-07-01 00:00:01',\n",
       " '1995-07-01 00:00:06',\n",
       " '1995-07-01 00:00:09',\n",
       " '1995-07-01 00:00:11',\n",
       " '1995-07-01 00:00:11']"
      ]
     },
     "execution_count": 33,
     "metadata": {},
     "output_type": "execute_result"
    }
   ],
   "source": [
    "# check parse_to_timestamp function for sample df\n",
    "print('Parsed data to timestamp')\n",
    "[parse_to_timestamp(item) for item in sample_timestamp]"
   ]
  },
  {
   "cell_type": "code",
   "execution_count": 34,
   "metadata": {},
   "outputs": [
    {
     "name": "stdout",
     "output_type": "stream",
     "text": [
      "+--------------------+------+--------------------+--------+------+------------+-------------------+\n",
      "|                host|method|            endpoint|protocol|status|content_size|               time|\n",
      "+--------------------+------+--------------------+--------+------+------------+-------------------+\n",
      "|        199.72.81.55|   GET|    /history/apollo/|HTTP/1.0|   200|        6245|1995-07-01 00:00:01|\n",
      "|unicomp6.unicomp.net|   GET| /shuttle/countdown/|HTTP/1.0|   200|        3985|1995-07-01 00:00:06|\n",
      "|      199.120.110.21|   GET|/shuttle/missions...|HTTP/1.0|   200|        4085|1995-07-01 00:00:09|\n",
      "|  burger.letters.com|   GET|/shuttle/countdow...|HTTP/1.0|   304|           0|1995-07-01 00:00:11|\n",
      "|      199.120.110.21|   GET|/shuttle/missions...|HTTP/1.0|   200|        4179|1995-07-01 00:00:11|\n",
      "+--------------------+------+--------------------+--------+------+------------+-------------------+\n",
      "only showing top 5 rows\n",
      "\n"
     ]
    }
   ],
   "source": [
    "# import udf from sql.functions\n",
    "from pyspark.sql.functions import udf\n",
    "parse_to_timestamp_udf = udf(parse_to_timestamp)\n",
    "\n",
    "processed_data_df = processed_data_df.select('*', parse_to_timestamp_udf(processed_data_df['timestamp']) \\\n",
    "                                     .cast('timestamp') \\\n",
    "                                     .alias('time')) \\\n",
    "                                     .drop('timestamp')\n",
    "processed_data_df.show(5, truncate=True)"
   ]
  },
  {
   "cell_type": "code",
   "execution_count": 35,
   "metadata": {},
   "outputs": [
    {
     "name": "stdout",
     "output_type": "stream",
     "text": [
      "root\n",
      " |-- host: string (nullable = true)\n",
      " |-- method: string (nullable = true)\n",
      " |-- endpoint: string (nullable = true)\n",
      " |-- protocol: string (nullable = true)\n",
      " |-- status: integer (nullable = true)\n",
      " |-- content_size: integer (nullable = false)\n",
      " |-- time: timestamp (nullable = true)\n",
      "\n"
     ]
    }
   ],
   "source": [
    "# view schema of proccessed df after parsing to timestamp\n",
    "processed_data_df.printSchema()"
   ]
  },
  {
   "cell_type": "markdown",
   "metadata": {},
   "source": [
    "NOTE : Now the timestamp which was of type string now parsed to timestamp datatype."
   ]
  },
  {
   "cell_type": "code",
   "execution_count": null,
   "metadata": {},
   "outputs": [],
   "source": []
  },
  {
   "cell_type": "markdown",
   "metadata": {},
   "source": [
    "#### Analysing HTTP status code "
   ]
  },
  {
   "cell_type": "code",
   "execution_count": 36,
   "metadata": {},
   "outputs": [
    {
     "name": "stdout",
     "output_type": "stream",
     "text": [
      "Count of distinct status code : 8\n"
     ]
    }
   ],
   "source": [
    "# get count of distinct status code\n",
    "status_code_df = (processed_data_df.select('status') \\\n",
    "                              .distinct() \\\n",
    "                              .count())\n",
    "print('Count of distinct status code :', status_code_df)"
   ]
  },
  {
   "cell_type": "markdown",
   "metadata": {},
   "source": [
    "NOTE : We have total of 8 distinct status code."
   ]
  },
  {
   "cell_type": "code",
   "execution_count": 37,
   "metadata": {},
   "outputs": [
    {
     "name": "stdout",
     "output_type": "stream",
     "text": [
      "Distinct status code : \n",
      "+------+---------------+\n",
      "|status|distinct_status|\n",
      "+------+---------------+\n",
      "|   302|              1|\n",
      "|   404|              1|\n",
      "|   400|              1|\n",
      "|   403|              1|\n",
      "|   501|              1|\n",
      "|   200|              1|\n",
      "|   304|              1|\n",
      "|   500|              1|\n",
      "+------+---------------+\n",
      "\n"
     ]
    }
   ],
   "source": [
    "# view distinct status code\n",
    "from pyspark.sql.functions import countDistinct\n",
    "distinct_status = processed_data_df.groupBy('status') \\\n",
    "                                .agg(countDistinct('status') \\\n",
    "                                .alias('distinct_status'))\n",
    "print('Distinct status code : ')\n",
    "distinct_status.show()"
   ]
  },
  {
   "cell_type": "markdown",
   "metadata": {},
   "source": [
    "NOTE : These are distinct status code with count."
   ]
  },
  {
   "cell_type": "code",
   "execution_count": 38,
   "metadata": {},
   "outputs": [
    {
     "name": "stdout",
     "output_type": "stream",
     "text": [
      "Status code count table :\n",
      "+------+---------------+\n",
      "|status|distinct_status|\n",
      "+------+---------------+\n",
      "|   200|        3100524|\n",
      "|   304|         266773|\n",
      "|   302|          73070|\n",
      "|   404|          20899|\n",
      "|   403|            225|\n",
      "|   500|             65|\n",
      "|   501|             41|\n",
      "|   400|             15|\n",
      "+------+---------------+\n",
      "\n"
     ]
    }
   ],
   "source": [
    "# count individual status code and sort it\n",
    "from pyspark.sql.functions import desc\n",
    "status_code_count = processed_data_df.groupBy(\"status\") \\\n",
    "                                  .count() \\\n",
    "                                  .withColumnRenamed(\"count\",\"distinct_status\") \\\n",
    "                                  .sort(desc(\"count\"))      \n",
    "print('Status code count table :')\n",
    "status_code_count.show()"
   ]
  },
  {
   "cell_type": "code",
   "execution_count": 39,
   "metadata": {},
   "outputs": [
    {
     "name": "stdout",
     "output_type": "stream",
     "text": [
      "Max count of status code : \n",
      "+------+---------------+\n",
      "|status|distinct_status|\n",
      "+------+---------------+\n",
      "|   200|        3100524|\n",
      "+------+---------------+\n",
      "only showing top 1 row\n",
      "\n"
     ]
    }
   ],
   "source": [
    "# max count of status code\n",
    "print('Max count of status code : ')\n",
    "status_code_count.show(1)"
   ]
  },
  {
   "cell_type": "code",
   "execution_count": 40,
   "metadata": {},
   "outputs": [
    {
     "name": "stdout",
     "output_type": "stream",
     "text": [
      "AxesSubplot(0.125,0.11;0.775x0.77)\n"
     ]
    }
   ],
   "source": [
    "# convert to pandas df\n",
    "status_code_pd = status_code_count.toPandas()\n",
    "print(status_code_pd.plot(kind='bar',x='status',y='distinct_status'))"
   ]
  },
  {
   "cell_type": "code",
   "execution_count": 41,
   "metadata": {},
   "outputs": [
    {
     "data": {
      "image/png": "[encoded data removed]",
      "text/plain": [
       "<Figure size 720x360 with 1 Axes>"
      ]
     },
     "metadata": {
      "needs_background": "light"
     },
     "output_type": "display_data"
    }
   ],
   "source": [
    "# import seaborn lib and use catplot for ploting graph\n",
    "import seaborn as sns\n",
    "status_bar_graph = sns.catplot(x='status', y='distinct_status', \n",
    "                               data=status_code_pd, \n",
    "                               kind='bar', height=5, aspect=2)"
   ]
  },
  {
   "cell_type": "code",
   "execution_count": 42,
   "metadata": {},
   "outputs": [
    {
     "name": "stdout",
     "output_type": "stream",
     "text": [
      "('Total 404 responses: ', 20899)\n"
     ]
    }
   ],
   "source": [
    "# count not found 404 error response status code\n",
    "status_code_404_df = processed_data_df.filter(processed_data_df[\"status\"] == 404)\n",
    "print(('Total 404 responses: ', status_code_404_df.count()))"
   ]
  },
  {
   "cell_type": "markdown",
   "metadata": {},
   "source": [
    "#### Analysis\n",
    "\n",
    "From above we can infer following points about status code : -\n",
    "1. Maximum status code count is 3100405\n",
    "\n",
    "2. Status code for which max count is 200"
   ]
  },
  {
   "cell_type": "code",
   "execution_count": null,
   "metadata": {},
   "outputs": [],
   "source": []
  },
  {
   "cell_type": "markdown",
   "metadata": {},
   "source": [
    "#### Analyzing  Hosts Name"
   ]
  },
  {
   "cell_type": "code",
   "execution_count": 43,
   "metadata": {},
   "outputs": [
    {
     "name": "stdout",
     "output_type": "stream",
     "text": [
      "Count of distinct host name : 137933\n"
     ]
    }
   ],
   "source": [
    "# get count of distinct hostname\n",
    "host_name_df = (processed_data_df.select('host') \\\n",
    "                              .distinct() \\\n",
    "                              .count())\n",
    "print('Count of distinct host name :', host_name_df)"
   ]
  },
  {
   "cell_type": "code",
   "execution_count": 44,
   "metadata": {},
   "outputs": [
    {
     "name": "stdout",
     "output_type": "stream",
     "text": [
      "Host name count table :\n",
      "+--------------------+-------------+\n",
      "|host                |distinct_host|\n",
      "+--------------------+-------------+\n",
      "|piweba3y.prodigy.com|21988        |\n",
      "|piweba4y.prodigy.com|16437        |\n",
      "|piweba1y.prodigy.com|12825        |\n",
      "|edams.ksc.nasa.gov  |11964        |\n",
      "|163.206.89.4        |9697         |\n",
      "|news.ti.com         |8161         |\n",
      "|www-d1.proxy.aol.com|8047         |\n",
      "|alyssa.prodigy.com  |8037         |\n",
      "|                    |7660         |\n",
      "|siltb10.orl.mmc.com |7573         |\n",
      "+--------------------+-------------+\n",
      "only showing top 10 rows\n",
      "\n"
     ]
    }
   ],
   "source": [
    "# count individual status code and sorting it\n",
    "host_name_df = processed_data_df.groupBy(\"host\") \\\n",
    "                                  .count() \\\n",
    "                                  .withColumnRenamed(\"count\",\"distinct_host\") \\\n",
    "                                  .sort(desc(\"count\"))      \n",
    "print('Host name count table :')\n",
    "host_name_df.show(10, truncate=False)"
   ]
  },
  {
   "cell_type": "code",
   "execution_count": 45,
   "metadata": {},
   "outputs": [
    {
     "name": "stdout",
     "output_type": "stream",
     "text": [
      "Max count of host name : \n",
      "+--------------------+-------------+\n",
      "|host                |distinct_host|\n",
      "+--------------------+-------------+\n",
      "|piweba3y.prodigy.com|21988        |\n",
      "+--------------------+-------------+\n",
      "only showing top 1 row\n",
      "\n"
     ]
    }
   ],
   "source": [
    "# max count of host name\n",
    "print('Max count of host name : ')\n",
    "host_name_df.show(1, truncate=False)"
   ]
  },
  {
   "cell_type": "markdown",
   "metadata": {},
   "source": [
    "#### Analysis\n",
    "\n",
    "From above we can infer following points about host name : -\n",
    "1. Maximum host name count is 21291\n",
    "\n",
    "2. Host name for which max count is piweba3y.prodigy.com"
   ]
  },
  {
   "cell_type": "code",
   "execution_count": null,
   "metadata": {},
   "outputs": [],
   "source": []
  },
  {
   "cell_type": "markdown",
   "metadata": {},
   "source": [
    "#### Analyzing  Endpoints"
   ]
  },
  {
   "cell_type": "code",
   "execution_count": 46,
   "metadata": {},
   "outputs": [
    {
     "name": "stdout",
     "output_type": "stream",
     "text": [
      "Count of distinct endpoints : 31030\n"
     ]
    }
   ],
   "source": [
    "# get count of distinct endpoint\n",
    "endpoints_df = (processed_data_df.select('endpoint') \\\n",
    "                              .distinct() \\\n",
    "                              .count())\n",
    "print('Count of distinct endpoints :', endpoints_df)"
   ]
  },
  {
   "cell_type": "code",
   "execution_count": 47,
   "metadata": {},
   "outputs": [
    {
     "name": "stdout",
     "output_type": "stream",
     "text": [
      "Endpoint count table :\n",
      "+---------------------------------------+-----------------+\n",
      "|endpoint                               |distinct_endpoint|\n",
      "+---------------------------------------+-----------------+\n",
      "|/images/NASA-logosmall.gif             |208714           |\n",
      "|/images/KSC-logosmall.gif              |164970           |\n",
      "|/images/MOSAIC-logosmall.gif           |127908           |\n",
      "|/images/USA-logosmall.gif              |127074           |\n",
      "|/images/WORLD-logosmall.gif            |125925           |\n",
      "|/images/ksclogo-medium.gif             |121572           |\n",
      "|/ksc.html                              |83909            |\n",
      "|/images/launch-logo.gif                |76006            |\n",
      "|/history/apollo/images/apollo-logo1.gif|68896            |\n",
      "|/shuttle/countdown/                    |64736            |\n",
      "+---------------------------------------+-----------------+\n",
      "only showing top 10 rows\n",
      "\n"
     ]
    }
   ],
   "source": [
    "# count individual status code and sorting it\n",
    "endpoints_df = processed_data_df.groupBy(\"endpoint\") \\\n",
    "                                  .count() \\\n",
    "                                  .withColumnRenamed(\"count\",\"distinct_endpoint\") \\\n",
    "                                  .sort(desc(\"count\"))      \n",
    "print('Endpoint count table :')\n",
    "endpoints_df.show(10, truncate=False)"
   ]
  },
  {
   "cell_type": "code",
   "execution_count": 48,
   "metadata": {},
   "outputs": [
    {
     "name": "stdout",
     "output_type": "stream",
     "text": [
      "Max count of endpoint : \n",
      "+--------------------------+-----------------+\n",
      "|endpoint                  |distinct_endpoint|\n",
      "+--------------------------+-----------------+\n",
      "|/images/NASA-logosmall.gif|208714           |\n",
      "+--------------------------+-----------------+\n",
      "only showing top 1 row\n",
      "\n"
     ]
    }
   ],
   "source": [
    "# max count of endpoints\n",
    "print('Max count of endpoint : ')\n",
    "endpoints_df.show(1, truncate=False)"
   ]
  },
  {
   "cell_type": "markdown",
   "metadata": {},
   "source": [
    "#### Analysis\n",
    "\n",
    "From above we can infer following points about endpoints : -\n",
    "1. Maximum endpoint is 208711\n",
    "\n",
    "2. Endpoint name for which max count is /images/NASA-logosmall.gif"
   ]
  },
  {
   "cell_type": "code",
   "execution_count": null,
   "metadata": {},
   "outputs": [],
   "source": []
  },
  {
   "cell_type": "markdown",
   "metadata": {},
   "source": [
    "#### Analysing content size"
   ]
  },
  {
   "cell_type": "code",
   "execution_count": 49,
   "metadata": {},
   "outputs": [
    {
     "name": "stdout",
     "output_type": "stream",
     "text": [
      "+-------+------------------+\n",
      "|summary|      content_size|\n",
      "+-------+------------------+\n",
      "|  count|           3461612|\n",
      "|   mean|18928.844398216785|\n",
      "| stddev| 73031.47260949228|\n",
      "|    min|                 0|\n",
      "|    max|           6823936|\n",
      "+-------+------------------+\n",
      "\n"
     ]
    }
   ],
   "source": [
    "# get statistics on content size \n",
    "content_size_stats_df = processed_data_df.describe(['content_size'])\n",
    "content_size_stats_df.show()"
   ]
  },
  {
   "cell_type": "markdown",
   "metadata": {},
   "source": [
    "#### Analysis\n",
    "\n",
    "From above we can infer following points about content size : -\n",
    "1. Minimun content size is 0.\n",
    "\n",
    "2. Maximum content size of data is 6823936 \n",
    "\n",
    "3. Mean content size is 19264"
   ]
  },
  {
   "cell_type": "code",
   "execution_count": null,
   "metadata": {},
   "outputs": [],
   "source": []
  },
  {
   "cell_type": "markdown",
   "metadata": {},
   "source": [
    "#### Analyzing  Methods"
   ]
  },
  {
   "cell_type": "code",
   "execution_count": 50,
   "metadata": {},
   "outputs": [
    {
     "name": "stdout",
     "output_type": "stream",
     "text": [
      "Count of distinct method : 5\n"
     ]
    }
   ],
   "source": [
    "# get count of distinct methods\n",
    "methods_df = (processed_data_df.select('method') \\\n",
    "                              .distinct() \\\n",
    "                              .count())\n",
    "print('Count of distinct method :', methods_df)"
   ]
  },
  {
   "cell_type": "code",
   "execution_count": 51,
   "metadata": {},
   "outputs": [
    {
     "name": "stdout",
     "output_type": "stream",
     "text": [
      "Method count table :\n",
      "+---------------+---------------+\n",
      "|method         |distinct_method|\n",
      "+---------------+---------------+\n",
      "|GET            |3451720        |\n",
      "|HEAD           |7915           |\n",
      "|               |1753           |\n",
      "|POST           |222            |\n",
      "|�|\u0005\u0011t\u0003�9ð'À|\u0005\u0011u|2              |\n",
      "+---------------+---------------+\n",
      "\n"
     ]
    }
   ],
   "source": [
    "# count individual status code and sorting it\n",
    "methods_df = processed_data_df.groupBy(\"method\") \\\n",
    "                                  .count() \\\n",
    "                                  .withColumnRenamed(\"count\",\"distinct_method\") \\\n",
    "                                  .sort(desc(\"count\"))      \n",
    "print('Method count table :')\n",
    "methods_df.show(10, truncate=False)"
   ]
  },
  {
   "cell_type": "code",
   "execution_count": 52,
   "metadata": {},
   "outputs": [
    {
     "name": "stdout",
     "output_type": "stream",
     "text": [
      "Max count of method : \n",
      "+------+---------------+\n",
      "|method|distinct_method|\n",
      "+------+---------------+\n",
      "|GET   |3451720        |\n",
      "+------+---------------+\n",
      "only showing top 1 row\n",
      "\n"
     ]
    }
   ],
   "source": [
    "# max count of method\n",
    "print('Max count of method : ')\n",
    "methods_df.show(1, truncate=False)"
   ]
  },
  {
   "cell_type": "code",
   "execution_count": 53,
   "metadata": {},
   "outputs": [
    {
     "name": "stdout",
     "output_type": "stream",
     "text": [
      "AxesSubplot(0.125,0.125;0.775x0.755)\n"
     ]
    },
    {
     "data": {
      "image/png": "[encoded data removed]",
      "text/plain": [
       "<Figure size 432x288 with 1 Axes>"
      ]
     },
     "metadata": {
      "needs_background": "light"
     },
     "output_type": "display_data"
    }
   ],
   "source": [
    "# convert to pandas df\n",
    "method_pd = methods_df.toPandas()\n",
    "print(method_pd.plot(kind='bar',x='method',y='distinct_method'))"
   ]
  },
  {
   "cell_type": "code",
   "execution_count": 54,
   "metadata": {},
   "outputs": [
    {
     "data": {
      "image/png": "[encoded data removed]",
      "text/plain": [
       "<Figure size 720x360 with 1 Axes>"
      ]
     },
     "metadata": {
      "needs_background": "light"
     },
     "output_type": "display_data"
    }
   ],
   "source": [
    "# use catplot for ploting graph\n",
    "method_bar_graph = sns.catplot(x='method', y='distinct_method', \n",
    "                               data=method_pd, \n",
    "                               kind='bar', height=5, aspect=2)"
   ]
  },
  {
   "cell_type": "code",
   "execution_count": null,
   "metadata": {},
   "outputs": [],
   "source": []
  },
  {
   "cell_type": "markdown",
   "metadata": {},
   "source": [
    "#### Analyzing  Protocol"
   ]
  },
  {
   "cell_type": "code",
   "execution_count": 55,
   "metadata": {},
   "outputs": [
    {
     "name": "stdout",
     "output_type": "stream",
     "text": [
      "Count of distinct protocol : 6\n"
     ]
    }
   ],
   "source": [
    "# get count of distinct protocol\n",
    "protocol_df = (processed_data_df.select('protocol') \\\n",
    "                              .distinct() \\\n",
    "                              .count())\n",
    "print('Count of distinct protocol :', protocol_df)"
   ]
  },
  {
   "cell_type": "code",
   "execution_count": 56,
   "metadata": {},
   "outputs": [
    {
     "name": "stdout",
     "output_type": "stream",
     "text": [
      "Protocol count table :\n",
      "+-------------+-----------------+\n",
      "|protocol     |distinct_protocol|\n",
      "+-------------+-----------------+\n",
      "|HTTP/1.0     |3454716          |\n",
      "|             |6599             |\n",
      "|HTTP/V1.0    |279              |\n",
      "|HTTP/*       |13               |\n",
      "|STS-69</a><p>|4                |\n",
      "|a            |1                |\n",
      "+-------------+-----------------+\n",
      "\n"
     ]
    }
   ],
   "source": [
    "# count individual protocol and sorting it\n",
    "protocol_df = processed_data_df.groupBy(\"protocol\") \\\n",
    "                                  .count() \\\n",
    "                                  .withColumnRenamed(\"count\",\"distinct_protocol\") \\\n",
    "                                  .sort(desc(\"count\"))      \n",
    "print('Protocol count table :')\n",
    "protocol_df.show(10, truncate=False)"
   ]
  },
  {
   "cell_type": "code",
   "execution_count": 57,
   "metadata": {},
   "outputs": [
    {
     "name": "stdout",
     "output_type": "stream",
     "text": [
      "Max count of protocol : \n",
      "+--------+-----------------+\n",
      "|protocol|distinct_protocol|\n",
      "+--------+-----------------+\n",
      "|HTTP/1.0|3454716          |\n",
      "+--------+-----------------+\n",
      "only showing top 1 row\n",
      "\n"
     ]
    }
   ],
   "source": [
    "# max count of protocol\n",
    "print('Max count of protocol : ')\n",
    "protocol_df.show(1, truncate=False)"
   ]
  },
  {
   "cell_type": "code",
   "execution_count": 58,
   "metadata": {},
   "outputs": [
    {
     "name": "stdout",
     "output_type": "stream",
     "text": [
      "AxesSubplot(0.125,0.125;0.775x0.755)\n"
     ]
    },
    {
     "data": {
      "image/png": "[encoded data removed]",
      "text/plain": [
       "<Figure size 432x288 with 1 Axes>"
      ]
     },
     "metadata": {
      "needs_background": "light"
     },
     "output_type": "display_data"
    }
   ],
   "source": [
    "# convert to pandas df\n",
    "protocol_pd = protocol_df.toPandas()\n",
    "print(protocol_pd.plot(kind='bar',x='protocol',y='distinct_protocol'))"
   ]
  },
  {
   "cell_type": "code",
   "execution_count": 59,
   "metadata": {},
   "outputs": [
    {
     "data": {
      "image/png": "[encoded data removed]",
      "text/plain": [
       "<Figure size 720x360 with 1 Axes>"
      ]
     },
     "metadata": {
      "needs_background": "light"
     },
     "output_type": "display_data"
    }
   ],
   "source": [
    "# use catplot for ploting graph\n",
    "protocol_bar_graph = sns.catplot(x='protocol', y='distinct_protocol', \n",
    "                               data=protocol_pd, \n",
    "                               kind='bar', height=5, aspect=2)"
   ]
  },
  {
   "cell_type": "code",
   "execution_count": null,
   "metadata": {},
   "outputs": [],
   "source": []
  }
 ],
 "metadata": {
  "kernelspec": {
   "display_name": "Python 3",
   "language": "python",
   "name": "python3"
  },
  "language_info": {
   "codemirror_mode": {
    "name": "ipython",
    "version": 3
   },
   "file_extension": ".py",
   "mimetype": "text/x-python",
   "name": "python",
   "nbconvert_exporter": "python",
   "pygments_lexer": "ipython3",
   "version": "3.6.8"
  }
 },
 "nbformat": 4,
 "nbformat_minor": 2
}
